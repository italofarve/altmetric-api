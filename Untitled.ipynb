{
 "cells": [
  {
   "cell_type": "code",
   "execution_count": 1,
   "metadata": {
    "collapsed": true
   },
   "outputs": [],
   "source": [
    "import requests"
   ]
  },
  {
   "cell_type": "code",
   "execution_count": 8,
   "metadata": {
    "collapsed": true
   },
   "outputs": [],
   "source": [
    "import json"
   ]
  },
  {
   "cell_type": "code",
   "execution_count": 9,
   "metadata": {
    "collapsed": true
   },
   "outputs": [],
   "source": [
    "import timeit"
   ]
  },
  {
   "cell_type": "code",
   "execution_count": 10,
   "metadata": {
    "collapsed": true
   },
   "outputs": [],
   "source": [
    "start = timeit.default_timer() #Calculate time"
   ]
  },
  {
   "cell_type": "code",
   "execution_count": 3,
   "metadata": {
    "collapsed": true
   },
   "outputs": [],
   "source": [
    "api = \"http://api.altmetric.com/v1/doi/\""
   ]
  },
  {
   "cell_type": "code",
   "execution_count": 5,
   "metadata": {
    "collapsed": true
   },
   "outputs": [],
   "source": [
    "doi = \"10.1101/SQB.1953.018.01.020\" # a paper by Watson and Crick"
   ]
  },
  {
   "cell_type": "code",
   "execution_count": 6,
   "metadata": {
    "collapsed": true
   },
   "outputs": [],
   "source": [
    "response = requests.get(api + doi) # this is the request"
   ]
  },
  {
   "cell_type": "code",
   "execution_count": 7,
   "metadata": {
    "collapsed": false
   },
   "outputs": [
    {
     "name": "stdout",
     "output_type": "stream",
     "text": [
      "200\n"
     ]
    }
   ],
   "source": [
    "print(response.status_code) \n",
    "# checking to see whether our response worked out\n",
    "# you'll likely encounter one of these:\n",
    "    # 200 - everything went okay <- what you're hoping for!\n",
    "    # 404 - not found/no data available\n",
    "\n",
    "# but you might also run into these\n",
    "    # 301 - server redirect\n",
    "    # 401 - you're not authenticated\n",
    "    # 400 - bad request\n",
    "    # 403 - resource being accessed is forbidden"
   ]
  },
  {
   "cell_type": "code",
   "execution_count": 15,
   "metadata": {
    "collapsed": false
   },
   "outputs": [
    {
     "name": "stdout",
     "output_type": "stream",
     "text": [
      "161.250108147\n"
     ]
    }
   ],
   "source": [
    "stop = timeit.default_timer()\n",
    "print(stop - start)"
   ]
  },
  {
   "cell_type": "code",
   "execution_count": 16,
   "metadata": {
    "collapsed": true
   },
   "outputs": [],
   "source": [
    "result = response.json() \n",
    "# converts the data you've fetched to dictionary format"
   ]
  },
  {
   "cell_type": "code",
   "execution_count": 18,
   "metadata": {
    "collapsed": false
   },
   "outputs": [
    {
     "data": {
      "text/plain": [
       "dict"
      ]
     },
     "execution_count": 18,
     "metadata": {},
     "output_type": "execute_result"
    }
   ],
   "source": [
    "type(result) \n",
    "# should return dict"
   ]
  },
  {
   "cell_type": "code",
   "execution_count": 19,
   "metadata": {
    "collapsed": false
   },
   "outputs": [
    {
     "data": {
      "text/plain": [
       "['added_on',\n",
       " 'altmetric_id',\n",
       " 'altmetric_jid',\n",
       " 'cited_by_accounts_count',\n",
       " 'cited_by_posts_count',\n",
       " 'cited_by_wikipedia_count',\n",
       " 'cohorts',\n",
       " 'context',\n",
       " 'details_url',\n",
       " 'doi',\n",
       " 'history',\n",
       " 'images',\n",
       " 'is_oa',\n",
       " 'issns',\n",
       " 'journal',\n",
       " 'last_updated',\n",
       " 'pmid',\n",
       " 'published_on',\n",
       " 'publisher_subjects',\n",
       " 'readers',\n",
       " 'readers_count',\n",
       " 'schema',\n",
       " 'scopus_subjects',\n",
       " 'score',\n",
       " 'subjects',\n",
       " 'title',\n",
       " 'type',\n",
       " 'url']"
      ]
     },
     "execution_count": 19,
     "metadata": {},
     "output_type": "execute_result"
    }
   ],
   "source": [
    "sorted(result.keys()) \n",
    "# having a look at the kind of altmetric information we're getting\n",
    "# result.keys() is sufficient for this but I use sorted() to alphabetically sort output"
   ]
  },
  {
   "cell_type": "code",
   "execution_count": null,
   "metadata": {
    "collapsed": true
   },
   "outputs": [],
   "source": []
  }
 ],
 "metadata": {
  "anaconda-cloud": {},
  "kernelspec": {
   "display_name": "Python [default]",
   "language": "python",
   "name": "python3"
  },
  "language_info": {
   "codemirror_mode": {
    "name": "ipython",
    "version": 3
   },
   "file_extension": ".py",
   "mimetype": "text/x-python",
   "name": "python",
   "nbconvert_exporter": "python",
   "pygments_lexer": "ipython3",
   "version": "3.5.2"
  }
 },
 "nbformat": 4,
 "nbformat_minor": 1
}
